{
 "cells": [
  {
   "cell_type": "code",
   "execution_count": 1,
   "id": "eccba541-dc08-4abc-8e01-93330415927e",
   "metadata": {
    "tags": []
   },
   "outputs": [
    {
     "name": "stdout",
     "output_type": "stream",
     "text": [
      "43\n",
      "husky\n",
      "https://dog.ceo/api/breed/husky/images/random\n"
     ]
    },
    {
     "data": {
      "text/plain": [
       "'dog_husky.jpg'"
      ]
     },
     "execution_count": 1,
     "metadata": {},
     "output_type": "execute_result"
    }
   ],
   "source": [
    "import pandas as pd\n",
    "\n",
    "# read csv file\n",
    "df1=pd.read_csv(\"dog_list.csv\")\n",
    "\n",
    "#get the length of file \n",
    "len(df1)\n",
    "\n",
    "#get random number\n",
    "import random\n",
    "data=random.randint(0,196)\n",
    "print(data)\n",
    "\n",
    "random_dog = df1.iloc[data][\"Breed names\"]\n",
    "print(random_dog)\n",
    "\n",
    "#get URL\n",
    "url= \"https://dog.ceo/api/breed/{}/images/random\".format(random_dog)\n",
    "print(url)\n",
    "\n",
    "#get file name \n",
    "file_name = f\"dog_{random_dog}.jpg\"\n",
    "\n",
    "file_name"
   ]
  },
  {
   "cell_type": "code",
   "execution_count": 11,
   "id": "6fe93103-f4f4-4728-84de-2f9b5e148ae9",
   "metadata": {
    "tags": []
   },
   "outputs": [],
   "source": [
    "import requests\n",
    "\n",
    "url = \"https://dog.ceo/api/breed/dalmatian/images/random\"\n",
    "response = requests.get(url)\n",
    "\n",
    "with open(\"dog_husky.jpg\", \"wb\") as f:\n",
    "    f.write(response.content)"
   ]
  },
  {
   "cell_type": "code",
   "execution_count": null,
   "id": "8bb9d60b-a049-475a-a738-a9aa610b6088",
   "metadata": {},
   "outputs": [],
   "source": []
  }
 ],
 "metadata": {
  "kernelspec": {
   "display_name": "Python 3 (ipykernel)",
   "language": "python",
   "name": "python3"
  },
  "language_info": {
   "codemirror_mode": {
    "name": "ipython",
    "version": 3
   },
   "file_extension": ".py",
   "mimetype": "text/x-python",
   "name": "python",
   "nbconvert_exporter": "python",
   "pygments_lexer": "ipython3",
   "version": "3.11.2"
  }
 },
 "nbformat": 4,
 "nbformat_minor": 5
}
