{
 "cells": [
  {
   "cell_type": "code",
   "execution_count": 1,
   "id": "7e7ef63e-f0a3-4f8f-8351-dccbf222762b",
   "metadata": {
    "tags": []
   },
   "outputs": [
    {
     "name": "stderr",
     "output_type": "stream",
     "text": [
      "2023-02-27 11:49:55.641 \n",
      "  \u001b[33m\u001b[1mWarning:\u001b[0m to view this Streamlit app on a browser, run it with the following\n",
      "  command:\n",
      "\n",
      "    streamlit run C:\\Users\\archi\\OneDrive\\Desktop\\Internship\\virtual-envs\\venv-python-playground\\Lib\\site-packages\\ipykernel_launcher.py [ARGUMENTS]\n"
     ]
    }
   ],
   "source": [
    "import streamlit as st \n",
    "from PIL import Image\n",
    "import requests\n",
    "import pandas as pd\n",
    "from io import BytesIO\n",
    "\n",
    "st.set_page_config(page_title=\"Dog Pictures\")\n",
    "\n",
    "# Load the list of dogs from the CSV file\n",
    "dogs_df = pd.read_csv(\"dog_list.csv\")\n",
    "\n",
    "# Define the Streamlit form\n",
    "selected_dog = st.selectbox(\"Select a dog:\", dogs_df[\"Breed names\"])\n",
    "submit_button = st.button(\"Submit\")\n",
    "\n",
    "#Create function to get desired URL\n",
    "def generate_url(selected_dog: str)-> str:\n",
    "    return f\"https://dog.ceo/api/breed/{selected_dog}/images/random\"\n",
    "my_url=generate_url(selected_dog)\n",
    "\n",
    "#Create a function to get image URL\n",
    "def get_dog_image(my_url: str)-> bytes:\n",
    "    response = requests.get(my_url)\n",
    "    return response.content\n",
    "image_bytes = get_dog_image(my_url)\n",
    "\n",
    "# Display the image\n",
    "if submit_button and image_bytes:\n",
    "    image = Image.open(BytesIO(image_bytes))\n",
    "    st.image(image)\n"
   ]
  },
  {
   "cell_type": "code",
   "execution_count": null,
   "id": "f7d5548c-bf9b-4154-8e88-512cda6a5cf7",
   "metadata": {},
   "outputs": [],
   "source": []
  }
 ],
 "metadata": {
  "kernelspec": {
   "display_name": "Python 3 (ipykernel)",
   "language": "python",
   "name": "python3"
  },
  "language_info": {
   "codemirror_mode": {
    "name": "ipython",
    "version": 3
   },
   "file_extension": ".py",
   "mimetype": "text/x-python",
   "name": "python",
   "nbconvert_exporter": "python",
   "pygments_lexer": "ipython3",
   "version": "3.11.2"
  }
 },
 "nbformat": 4,
 "nbformat_minor": 5
}
