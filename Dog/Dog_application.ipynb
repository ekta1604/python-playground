{
 "cells": [
  {
   "cell_type": "code",
   "execution_count": 10,
   "id": "14a97f42-4e75-4ed7-b1f4-e10bdbb34254",
   "metadata": {
    "tags": []
   },
   "outputs": [
    {
     "name": "stdout",
     "output_type": "stream",
     "text": [
      "b'{\"message\":\"https:\\\\/\\\\/images.dog.ceo\\\\/breeds\\\\/affenpinscher\\\\/n02110627_8033.jpg\",\"status\":\"success\"}'\n"
     ]
    }
   ],
   "source": [
    "import streamlit as st \n",
    "from PIL import Image\n",
    "import requests\n",
    "import pandas as pd\n",
    "from io import BytesIO\n",
    "\n",
    "st.set_page_config(page_title=\"Dog Pictures\")\n",
    "\n",
    "# Load the list of dogs from the CSV file\n",
    "dogs_df = pd.read_csv(\"dog_list.csv\")\n",
    "\n",
    "# Define the Streamlit form\n",
    "selected_dog = st.selectbox(\"Select a dog:\", dogs_df[\"Breed names\"])\n",
    "submit_button = st.button(\"Submit\")\n",
    "\n",
    "#Create function to get desired URL\n",
    "def generate_url(selected_dog: str)-> str:\n",
    "    return f\"https://dog.ceo/api/breed/{selected_dog}/images/random\"\n",
    "my_url=generate_url(selected_dog)\n",
    "\n",
    "#Create a function to get image URL\n",
    "def get_dog_image(my_url: str)-> str:\n",
    "    response = requests.get(my_url)\n",
    "    return response.content\n",
    "image_url = get_dog_image(my_url)\n",
    "print(image_url)"
   ]
  },
  {
   "cell_type": "code",
   "execution_count": null,
   "id": "4add347f-adc5-4920-b002-787f3d23ecaf",
   "metadata": {},
   "outputs": [],
   "source": []
  }
 ],
 "metadata": {
  "kernelspec": {
   "display_name": "Python 3 (ipykernel)",
   "language": "python",
   "name": "python3"
  },
  "language_info": {
   "codemirror_mode": {
    "name": "ipython",
    "version": 3
   },
   "file_extension": ".py",
   "mimetype": "text/x-python",
   "name": "python",
   "nbconvert_exporter": "python",
   "pygments_lexer": "ipython3",
   "version": "3.11.2"
  }
 },
 "nbformat": 4,
 "nbformat_minor": 5
}
