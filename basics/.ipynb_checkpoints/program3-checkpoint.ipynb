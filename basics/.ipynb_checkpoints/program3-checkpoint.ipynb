{
 "cells": [
  {
   "cell_type": "code",
   "execution_count": 14,
   "id": "4d595667-4787-492b-a7e0-9d63a1e771fd",
   "metadata": {
    "tags": []
   },
   "outputs": [
    {
     "name": "stdout",
     "output_type": "stream",
     "text": [
      "[5, 10, 15, 15]\n"
     ]
    }
   ],
   "source": [
    "def my_fun():\n",
    "    n=int(input(\"Enter number\"))\n",
    "    my_list=[1,2,3,3]\n",
    "    new_list=[]\n",
    "\n",
    "    for i in my_list:\n",
    "        new_list.append(i*n)\n",
    "    print(new_list)\n",
    "my_fun()\n",
    "    \n",
    "\n",
    "    "
   ]
  },
  {
   "cell_type": "code",
   "execution_count": null,
   "id": "d9c2220d-3da3-46ad-92b3-1badd54eeb9a",
   "metadata": {},
   "outputs": [],
   "source": []
  }
 ],
 "metadata": {
  "kernelspec": {
   "display_name": "Python 3 (ipykernel)",
   "language": "python",
   "name": "python3"
  },
  "language_info": {
   "codemirror_mode": {
    "name": "ipython",
    "version": 3
   },
   "file_extension": ".py",
   "mimetype": "text/x-python",
   "name": "python",
   "nbconvert_exporter": "python",
   "pygments_lexer": "ipython3",
   "version": "3.11.2"
  }
 },
 "nbformat": 4,
 "nbformat_minor": 5
}
