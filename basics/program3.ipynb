{
 "cells": [
  {
   "cell_type": "code",
   "execution_count": 14,
   "id": "4d595667-4787-492b-a7e0-9d63a1e771fd",
   "metadata": {
    "tags": []
   },
   "outputs": [
    {
     "name": "stdout",
     "output_type": "stream",
     "text": [
      "[5, 10, 15, 15]\n"
     ]
    }
   ],
   "source": [
    "def my_fun(my_list,n):\n",
    "    \n",
    "    new_list=[]\n",
    "\n",
    "    for i in my_list:\n",
    "        new_list.append(i*n)\n",
    "    print(new_list)\n",
    "my_fun([1,2,3,3],int(input(\"Enter number\")))\n",
    "    \n",
    "\n",
    "    "
   ]
  },
  {
   "cell_type": "markdown",
   "id": "5bcf7f79-573d-4fee-9a03-0a820ae51ad3",
   "metadata": {},
   "source": []
  }
 ],
 "metadata": {
  "kernelspec": {
   "display_name": "Python 3",
   "language": "python",
   "name": "python3"
  },
  "language_info": {
   "codemirror_mode": {
    "name": "ipython",
    "version": 3
   },
   "file_extension": ".py",
   "mimetype": "text/x-python",
   "name": "python",
   "nbconvert_exporter": "python",
   "pygments_lexer": "ipython3",
   "version": "3.11.2"
  },
  "vscode": {
   "interpreter": {
    "hash": "5238573367df39f7286bb46f9ff5f08f63a01a80960060ce41e3c79b190280fa"
   }
  }
 },
 "nbformat": 4,
 "nbformat_minor": 5
}
